{
 "cells": [
  {
   "cell_type": "markdown",
   "metadata": {},
   "source": [
    "# Tugas Besar IF4074 Pembelajaran Mesin Lanjut\n",
    "## Clustering\n",
    "Anggota Kelompok\n",
    "1. Sinaga Yoko Christoffel T - 13516052\n",
    "2. Muhammad Alif Arifin - 13516078\n",
    "3. Deborah Aprilia Josephine - 13516152"
   ]
  },
  {
   "cell_type": "code",
   "execution_count": 1,
   "metadata": {},
   "outputs": [],
   "source": [
    "# General Library\n",
    "import pandas as pd\n",
    "import numpy as np\n",
    "\n",
    "# Clustering Implementation\n",
    "from KMeans import KMeans\n",
    "# from dbscan import DBSCAN\n",
    "from Metric import Metric\n",
    "\n",
    "# Sklearn Library\n",
    "from sklearn import datasets\n",
    "\n",
    "from sklearn.cluster import KMeans as sklearn_KMeans\n",
    "from sklearn.cluster import AgglomerativeClustering as sklearn_AgglomerativeClustering\n",
    "from sklearn.cluster import DBSCAN as sklearn_DBSCAN\n",
    "\n",
    "from sklearn.model_selection import KFold\n",
    "from sklearn.model_selection import train_test_split"
   ]
  },
  {
   "cell_type": "code",
   "execution_count": 3,
   "metadata": {},
   "outputs": [
    {
     "name": "stdout",
     "output_type": "stream",
     "text": [
      "Cluster 1 -> class 0: 7, class 1: 0, class 2: 0\n",
      "Cluster 2 -> class 0: 19, class 1: 25, class 2: 0\n",
      "Cluster 3 -> class 0: 24, class 1: 0, class 2: 0\n",
      "\n",
      "Cluster 1 -> class 0: 24, class 1: 0, class 2: 0\n",
      "Cluster 2 -> class 0: 1, class 1: 14, class 2: 0\n",
      "Cluster 3 -> class 0: 25, class 1: 11, class 2: 0\n",
      "\n",
      "Result\n",
      "[2 2 2 2 2 2 2 2 2 2 2 2 2 2 2 2 2 2 2 2 2 2 2 2 1 1 1 0 1 0 1 1 1 0 1 1 1\n",
      " 1 1 0 0 1 1 1 1 1 0 1 0 1 1 1 1 1 1 1 1 1 1 1 1 1 1 1 1 1 1 1 1 1 1 1 1 1\n",
      " 1]\n",
      "[0 0 0 0 0 0 0 0 0 0 0 0 0 0 0 0 0 0 0 0 0 0 0 0 1 2 2 2 2 2 2 2 2 2 2 2 2\n",
      " 2 2 2 2 2 2 2 2 2 2 2 2 2 2 2 1 2 1 1 2 1 2 2 1 1 1 1 1 2 1 1 2 1 2 1 2 1\n",
      " 2]\n",
      "[0 0 0 0 0 0 0 0 0 0 0 0 0 0 0 0 0 0 0 0 0 0 0 0 1 1 1 1 1 1 1 1 1 1 1 1 1\n",
      " 1 1 1 1 1 1 1 1 1 1 1 1 1 1 1 2 2 2 2 2 2 2 2 2 2 2 2 2 2 2 2 2 2 2 2 2 2\n",
      " 2]\n",
      "Cluster 1 -> class 0: 24, class 1: 25, class 2: 0\n",
      "Cluster 2 -> class 0: 0, class 1: 0, class 2: 0\n",
      "Cluster 3 -> class 0: 26, class 1: 0, class 2: 0\n",
      "\n",
      "Cluster 1 -> class 0: 26, class 1: 0, class 2: 0\n",
      "Cluster 2 -> class 0: 8, class 1: 25, class 2: 0\n",
      "Cluster 3 -> class 0: 16, class 1: 0, class 2: 0\n",
      "\n",
      "Result\n",
      "[2 2 2 2 2 2 2 2 2 2 2 2 2 2 2 2 2 2 2 2 2 2 2 2 2 2 0 0 0 0 0 0 0 0 0 0 0\n",
      " 0 0 0 0 0 0 0 0 0 0 0 0 0 0 0 0 0 0 0 0 0 0 0 0 0 0 0 0 0 0 0 0 0 0 0 0 0\n",
      " 0]\n",
      "[0 0 0 0 0 0 0 0 0 0 0 0 0 0 0 0 0 0 0 0 0 0 0 0 0 0 1 1 2 1 2 2 2 2 2 2 2\n",
      " 1 1 1 2 2 2 2 2 2 2 2 1 1 1 1 1 1 1 1 1 1 1 1 1 1 1 1 1 1 1 1 1 1 1 1 1 1\n",
      " 1]\n",
      "[0 0 0 0 0 0 0 0 0 0 0 0 0 0 0 0 0 0 0 0 0 0 0 0 0 0 1 1 1 1 1 1 1 1 1 1 1\n",
      " 1 1 1 1 1 1 1 1 1 1 1 2 2 2 2 2 2 2 2 2 2 2 2 2 2 2 2 2 2 2 2 2 2 2 2 2 2\n",
      " 2]\n"
     ]
    }
   ],
   "source": [
    "iris = datasets.load_iris()\n",
    "X = iris.data\n",
    "y = iris.target\n",
    "kf = KFold(n_splits=2, shuffle=True)\n",
    "sk_kmeans = sklearn_KMeans(n_clusters=3)\n",
    "kmeans = KMeans(3)\n",
    "for train_index, test_index in kf.split(X):\n",
    "    X_train, y_train = X[train_index], y[train_index]\n",
    "    X_test, y_test = X[test_index], y[test_index]\n",
    "    kmeans.fit(X_train)\n",
    "    sk_kmeans.fit(X_train)\n",
    "    result = kmeans.predict(X_test)\n",
    "    sk_result = sk_kmeans.predict(X_test)\n",
    "    metric = Metric(result, 3)\n",
    "    print ()\n",
    "    metric = Metric(sk_result, 3)\n",
    "    print ()\n",
    "    print ('Result')\n",
    "    print (result)\n",
    "    print (sk_result)\n",
    "    print (y_test)"
   ]
  },
  {
   "cell_type": "code",
   "execution_count": null,
   "metadata": {},
   "outputs": [],
   "source": []
  }
 ],
 "metadata": {
  "kernelspec": {
   "display_name": "Python 3",
   "language": "python",
   "name": "python3"
  },
  "language_info": {
   "codemirror_mode": {
    "name": "ipython",
    "version": 3
   },
   "file_extension": ".py",
   "mimetype": "text/x-python",
   "name": "python",
   "nbconvert_exporter": "python",
   "pygments_lexer": "ipython3",
   "version": "3.7.3"
  }
 },
 "nbformat": 4,
 "nbformat_minor": 2
}
